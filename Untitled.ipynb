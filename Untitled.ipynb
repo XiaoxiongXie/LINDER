{
 "cells": [
  {
   "cell_type": "code",
   "execution_count": 14,
   "metadata": {
    "ExecuteTime": {
     "end_time": "2020-01-02T11:45:41.076755Z",
     "start_time": "2020-01-02T11:45:41.012329Z"
    }
   },
   "outputs": [
    {
     "name": "stdout",
     "output_type": "stream",
     "text": [
      "The autoreload extension is already loaded. To reload it, use:\n",
      "  %reload_ext autoreload\n"
     ]
    }
   ],
   "source": [
    "import fiona,rasterio\n",
    "import rasterio.mask\n",
    "from pathlib import Path\n",
    "\n",
    "from linder.task_util import process_overlap,find_overlap\n",
    "%load_ext autoreload\n",
    "%autoreload 2\n",
    "\n"
   ]
  },
  {
   "cell_type": "code",
   "execution_count": 16,
   "metadata": {
    "ExecuteTime": {
     "end_time": "2020-01-02T11:46:04.296770Z",
     "start_time": "2020-01-02T11:45:57.292314Z"
    }
   },
   "outputs": [
    {
     "name": "stdout",
     "output_type": "stream",
     "text": [
      "0,overlap_found:1\n",
      "1,overlap_found:1\n",
      "2,overlap_found:1\n",
      "3,overlap_found:1\n",
      "4,overlap_found:1\n",
      "5,overlap_found:1\n",
      "6,overlap_found:1\n",
      "7,overlap_found:1\n",
      "8,overlap_found:1\n"
     ]
    }
   ],
   "source": [
    "patch_n = 0\n",
    "pic_n = 0\n",
    "path_shp = Path(f\"shape_box{patch_n}-{pic_n}.shp\")\n",
    "path_out = Path(\"/Users/sunt05/Dropbox/6.Repos/SUEWS-Changsha/sim/LC-Changsha\")\n",
    "\n",
    "path_save=path_out\n",
    "\n",
    "path_GUF = Path(\n",
    "    \"/Users/sunt05/Dropbox/6.Repos/land_cover/Data/GUF/WSF2015_v1_EPSG4326/WSF2015_v1_EPSG4326\"\n",
    ")\n",
    "\n",
    "\n",
    "patch_n=0\n",
    "for pic_n in range(9):\n",
    "    overlap_found = find_overlap(path_save, patch_n, pic_n, path_GUF)\n",
    "    print(f'{pic_n},overlap_found:{overlap_found}')\n",
    " \n",
    "\n",
    "\n",
    "# with fiona.open(path_out / path_shp.stem, \"r\",) as shapefile:\n",
    "#     features = [feature[\"geometry\"] for feature in shapefile]\n",
    "# # features\n",
    "\n",
    "\n",
    "# list_GUF_data=list(path_GUF.glob(\"*tif\"))\n",
    "# # list_GUF_data\n",
    "# GUF_data_dir=list(path_GUF.glob(\"*tif\"))[0]\n",
    "\n",
    "# with rasterio.open(GUF_data_dir) as src:\n",
    "#     out_image, out_transform = rasterio.mask.mask(src, features, crop=True)\n",
    "#     out_meta = src.meta.copy()"
   ]
  },
  {
   "cell_type": "code",
   "execution_count": null,
   "metadata": {},
   "outputs": [],
   "source": []
  }
 ],
 "metadata": {
  "kernelspec": {
   "display_name": "GDAL",
   "language": "python",
   "name": "build_central"
  },
  "language_info": {
   "codemirror_mode": {
    "name": "ipython",
    "version": 3
   },
   "file_extension": ".py",
   "mimetype": "text/x-python",
   "name": "python",
   "nbconvert_exporter": "python",
   "pygments_lexer": "ipython3",
   "version": "3.7.3"
  },
  "toc": {
   "base_numbering": 1,
   "nav_menu": {},
   "number_sections": true,
   "sideBar": true,
   "skip_h1_title": true,
   "title_cell": "Table of Contents",
   "title_sidebar": "Contents",
   "toc_cell": false,
   "toc_position": {},
   "toc_section_display": true,
   "toc_window_display": false
  }
 },
 "nbformat": 4,
 "nbformat_minor": 2
}
