{
 "cells": [
  {
   "cell_type": "code",
   "execution_count": 1,
   "metadata": {},
   "outputs": [],
   "source": [
    "import geopandas as gpd\n",
    "from shapely.geometry import Polygon\n",
    "import numpy as np\n",
    "import pandas as pd\n",
    "import os\n",
    "import sys\n",
    "import rasterio"
   ]
  },
  {
   "cell_type": "code",
   "execution_count": 116,
   "metadata": {},
   "outputs": [],
   "source": [
    "\n",
    "# gisdb = os.path.join(os.path.expanduser(\"~\"), \"Documents\")\n",
    "# location = \"nc_spm_08\"\n",
    "# mapset = \"PERMANENT\"\n",
    "# gisbase='/Applications/GRASS-7.6.app/Contents/Resources'\n",
    "# os.environ['GISBASE'] = gisbase\n",
    "# grass_pydir = os.path.join(gisbase, \"etc\", \"python\")\n",
    "# sys.path.append(grass_pydir)\n",
    "# os.environ['LD_LIBRARY_PATH']=\"/Applications/GRASS-7.6.app/Contents/Resources/lib\"\n",
    "# import grass.script as gscript\n",
    "# import grass.script.setup as gsetup\n",
    "\n",
    "\n",
    "# def grass_union(v1_dir,v2_dir,out_dir,patch_n,path_out):\n",
    "#     gsetup.init(gisbase, gisdb, location, mapset)\n",
    "\n",
    "#     gscript.run_command(\"g.proj\",flags=\"c\" ,proj4=\"+proj=longlat +datum=WGS84 +no_defs\")\n",
    "\n",
    "#     gscript.run_command(\"v.in.ogr\", \n",
    "#     min_area=0.0001 ,\n",
    "#     snap=-1.0, \n",
    "#     input=v1_dir, \n",
    "#     output=\"vector3\", \n",
    "#     overwrite=True, \n",
    "#     flags=\"o\")\n",
    "\n",
    "#     gscript.run_command(\"v.in.ogr\", \n",
    "#     min_area=0.0001 ,\n",
    "#     snap=-1.0, \n",
    "#     input=v2_dir, \n",
    "#     output=\"vector4\", \n",
    "#     overwrite=True, \n",
    "#     flags=\"o\")\n",
    "\n",
    "#     raster=rasterio.open(path_out+'/predicted_tiff/patch'+str(patch_n)+'/merged_prediction.tiff')\n",
    "#     df=raster.bounds\n",
    "\n",
    "#     gscript.run_command(\"g.region\",\n",
    "#     n=df.top,\n",
    "#     s=df.bottom,\n",
    "#     e=df.right,\n",
    "#     w=df.left)\n",
    "\n",
    "#     gscript.run_command(\"v.overlay\", \n",
    "#     overwrite=True,\n",
    "#     ainput=\"vector3\",\n",
    "#     atype=\"area\", \n",
    "#     binput=\"vector4\", \n",
    "#     btype=\"area\", \n",
    "#     operator='or', \n",
    "#     snap=0, \n",
    "#     output=\"output_b\")\n",
    "\n",
    "#     out_file='converted_temp.geojson'\n",
    "#     gscript.run_command(\"v.out.ogr\",\n",
    "#     type=\"auto\",\n",
    "#     input=\"output_b\",\n",
    "#     output=out_file,\n",
    "#     format=\"GeoJSON\",\n",
    "#     overwrite=True)\n",
    "\n",
    "\n",
    "#     temp=gpd.read_file(out_file)\n",
    "#     os.remove(out_file)\n",
    "#     temp.crs={'init' :'epsg:4326'}\n",
    "#     temp.to_file(out_dir)\n",
    "    \n",
    "    \n",
    "# def grass_intersect(v1_dir,v2_dir,out_dir,patch_n,path_out):\n",
    "#     gsetup.init(gisbase, gisdb, location, mapset)\n",
    "\n",
    "#     gscript.run_command(\"g.proj\",flags=\"c\" ,proj4=\"+proj=longlat +datum=WGS84 +no_defs\")\n",
    "\n",
    "#     gscript.run_command(\"v.in.ogr\", \n",
    "#     min_area=0.0001 ,\n",
    "#     snap=-1.0, \n",
    "#     input=v1_dir, \n",
    "#     output=\"vector3\", \n",
    "#     overwrite=True, \n",
    "#     flags=\"o\")\n",
    "\n",
    "#     gscript.run_command(\"v.in.ogr\", \n",
    "#     min_area=0.0001 ,\n",
    "#     snap=-1.0, \n",
    "#     input=v2_dir, \n",
    "#     output=\"vector4\", \n",
    "#     overwrite=True, \n",
    "#     flags=\"o\")\n",
    "\n",
    "#     raster=rasterio.open(path_out+'/predicted_tiff/patch'+str(patch_n)+'/merged_prediction.tiff')\n",
    "#     df=raster.bounds\n",
    "\n",
    "#     gscript.run_command(\"g.region\",\n",
    "#     n=df.top,\n",
    "#     s=df.bottom,\n",
    "#     e=df.right,\n",
    "#     w=df.left)\n",
    "\n",
    "#     gscript.run_command(\"v.overlay\", \n",
    "#     overwrite=True,\n",
    "#     ainput=\"vector3\",\n",
    "#     atype=\"area\", \n",
    "#     binput=\"vector4\", \n",
    "#     btype=\"area\", \n",
    "#     operator='and', \n",
    "#     snap=0, \n",
    "#     output=\"output_b\")\n",
    "\n",
    "#     out_file='converted_temp.geojson'\n",
    "#     gscript.run_command(\"v.out.ogr\",\n",
    "#     type=\"auto\",\n",
    "#     input=\"output_b\",\n",
    "#     output=out_file,\n",
    "#     format=\"GeoJSON\",\n",
    "#     overwrite=True)\n",
    "\n",
    "\n",
    "#     temp=gpd.read_file(out_file)\n",
    "#     os.remove(out_file)\n",
    "#     temp.crs={'init' :'epsg:4326'}\n",
    "#     temp.to_file(out_dir)"
   ]
  },
  {
   "cell_type": "code",
   "execution_count": 117,
   "metadata": {},
   "outputs": [],
   "source": [
    "# box=gpd.read_file('London/shape_box0/shape_box0.shp')"
   ]
  },
  {
   "cell_type": "code",
   "execution_count": 118,
   "metadata": {},
   "outputs": [],
   "source": [
    "# xmin,ymin,xmax,ymax = box.total_bounds"
   ]
  },
  {
   "cell_type": "code",
   "execution_count": 119,
   "metadata": {},
   "outputs": [],
   "source": [
    "# xn = 30\n",
    "# yn = 20\n",
    "\n",
    "# cols = list(np.linspace(xmin, xmax, xn, endpoint=True))\n",
    "# rows = list(np.linspace(ymin, ymax, yn, endpoint=True))\n",
    "# rows.reverse()\n",
    "\n",
    "# polygons = []\n",
    "# X,Y=np.meshgrid(cols,rows)\n",
    "# for x in range(xn-1):\n",
    "#     for y in range(yn-1):\n",
    "#         polygons.append(\n",
    "#             Polygon([(X[y,x], Y[y,x]), (X[y+1,x], Y[y+1,x]), (X[y+1,x+1],Y[y+1,x+1]), (X[y,x+1],Y[y,x+1])]))\n",
    "\n",
    "# grid = gpd.GeoDataFrame({'geometry': polygons})\n",
    "# grid.crs = box.crs\n",
    "# grid['grid_num']=grid.index\n",
    "# grid['grid_area']=grid.area\n"
   ]
  },
  {
   "cell_type": "code",
   "execution_count": 385,
   "metadata": {},
   "outputs": [],
   "source": [
    "# path_out='London'\n",
    "# patch_n=0\n",
    "# grid.to_file(path_out+'/grid'+str(patch_n))"
   ]
  },
  {
   "cell_type": "code",
   "execution_count": 386,
   "metadata": {},
   "outputs": [],
   "source": [
    "# v1_dir=path_out+'/predict_GUF_roads_mod'+str(patch_n)+'/predict_GUF_roads_mod'+str(patch_n)+'.shp'\n",
    "# v2_dir=path_out+'/grid'+str(patch_n)+'/grid'+str(patch_n)+'.shp'\n",
    "# out_dir=path_out+'/grid_intersect'+str(patch_n)\n",
    "# grass_intersect(v1_dir,v2_dir,out_dir,patch_n,path_out)"
   ]
  },
  {
   "cell_type": "code",
   "execution_count": 387,
   "metadata": {},
   "outputs": [],
   "source": [
    "# grid_intersect=gpd.read_file(out_dir)\n",
    "# grid_intersect=grid_intersect.drop(['cat','a_cat','b_cat'],axis=1)"
   ]
  },
  {
   "cell_type": "code",
   "execution_count": 388,
   "metadata": {},
   "outputs": [],
   "source": [
    "# grid_intersect['area']=grid_intersect.area"
   ]
  },
  {
   "cell_type": "code",
   "execution_count": 389,
   "metadata": {},
   "outputs": [],
   "source": [
    "# temp=grid_intersect.groupby(['b_grid_num','a_LC']).sum()\n",
    "# temp.b_grid_are=grid_intersect.b_grid_are.iloc[0]"
   ]
  },
  {
   "cell_type": "code",
   "execution_count": 390,
   "metadata": {},
   "outputs": [],
   "source": [
    "# temp['percentage']=temp.area/temp.b_grid_are\n",
    "# temp=temp.reset_index()"
   ]
  },
  {
   "cell_type": "code",
   "execution_count": 391,
   "metadata": {},
   "outputs": [],
   "source": [
    "# list_LC=gpd.read_file(v1_dir).LC.unique()"
   ]
  },
  {
   "cell_type": "code",
   "execution_count": 392,
   "metadata": {},
   "outputs": [],
   "source": [
    "# centroids=grid.centroid"
   ]
  },
  {
   "cell_type": "code",
   "execution_count": 481,
   "metadata": {},
   "outputs": [],
   "source": [
    "# fraction=pd.DataFrame(columns=np.concatenate((['lat','lon'],list_LC)),index=centroids.index)\n",
    "# for i in temp.b_grid_num.unique():\n",
    "     \n",
    "#     a_list=[]\n",
    "#     for x in list_LC:\n",
    "#         try:\n",
    "#             a=temp[(temp.b_grid_num==i)&(temp.a_LC==x)].percentage.values[0]\n",
    "#         except:\n",
    "#             a=0\n",
    "#         a_list.append(a)\n",
    "        \n",
    "#     aa=np.array(a_list)\n",
    "#     for j in aa:\n",
    "#         dy=(1-np.sum(a_list))/len(aa[aa!=0])\n",
    "#         if j!=0:\n",
    "#             aa[aa==j]=j+dy\n",
    "#     a_list=aa.T.tolist()\n",
    "    \n",
    "#     fraction.loc[i]=[centroids.loc[i].y,centroids.loc[i].x]+a_list\n",
    "\n",
    "# fraction.to_csv(path_out+'/fraction'+str(patch_n)+'.csv')       "
   ]
  },
  {
   "cell_type": "markdown",
   "metadata": {},
   "source": [
    "# Calculating Fraction"
   ]
  },
  {
   "cell_type": "code",
   "execution_count": 30,
   "metadata": {},
   "outputs": [
    {
     "name": "stdout",
     "output_type": "stream",
     "text": [
      "calculating the land cover fraction . . .\n",
      "calculating the land cover fraction . . .\n",
      "calculating the land cover fraction . . .\n",
      "calculating the land cover fraction . . .\n",
      "calculating the land cover fraction . . .\n",
      "calculating the land cover fraction . . .\n",
      "calculating the land cover fraction . . .\n",
      "calculating the land cover fraction . . .\n",
      "calculating the land cover fraction . . .\n",
      "calculating the land cover fraction . . .\n",
      "calculating the land cover fraction . . .\n",
      "calculating the land cover fraction . . .\n",
      "calculating the land cover fraction . . .\n",
      "calculating the land cover fraction . . .\n",
      "calculating the land cover fraction . . .\n",
      "calculating the land cover fraction . . .\n"
     ]
    }
   ],
   "source": [
    "from fraction_util import calculate_fraction\n",
    "path_out='London'\n",
    "xn=20\n",
    "yn=20\n",
    "for patch_n in range(0,16):\n",
    "        calculate_fraction(path_out,patch_n,xn,yn)"
   ]
  },
  {
   "cell_type": "markdown",
   "metadata": {},
   "source": [
    "# Reading and Plotting "
   ]
  },
  {
   "cell_type": "code",
   "execution_count": 31,
   "metadata": {},
   "outputs": [],
   "source": [
    "import geopandas as gpd\n",
    "from pyproj import Proj, transform\n",
    "import numpy as np\n",
    "import matplotlib.pyplot as plt\n",
    "import seaborn as sns\n",
    "import pandas as pd\n",
    "import xarray as xr\n",
    "from scipy.interpolate import griddata\n",
    "from mpl_toolkits.axes_grid1 import make_axes_locatable\n",
    "import matplotlib.colors as colors"
   ]
  },
  {
   "cell_type": "code",
   "execution_count": 34,
   "metadata": {},
   "outputs": [],
   "source": [
    "counter=0\n",
    "path_out='London'\n",
    "for i in range(0,16):\n",
    "    counter+=1\n",
    "    if counter==1:\n",
    "        df=pd.read_csv(path_out+'/fraction'+str(i)+'.csv',index_col=0)\n",
    "    else:\n",
    "        df1=pd.read_csv(path_out+'/fraction'+str(i)+'.csv',index_col=0)\n",
    "        df=pd.concat([df,df1])\n",
    "df.lon=df.lon.round(5)\n",
    "df.lat=df.lat.round(5)\n",
    "X,Y=np.meshgrid(np.sort(df.lon.unique()),np.sort(df.lat.unique()))\n",
    "Z=X*0"
   ]
  },
  {
   "cell_type": "code",
   "execution_count": 63,
   "metadata": {},
   "outputs": [],
   "source": [
    "for i in range(X.shape[0]):\n",
    "    for j in range(X.shape[1]):\n",
    "        Z[i,j]=df[(df.lat==Y[i,j])&(df.lon==X[i,j])]['2.0']"
   ]
  },
  {
   "cell_type": "code",
   "execution_count": 64,
   "metadata": {},
   "outputs": [
    {
     "data": {
      "text/plain": [
       "<matplotlib.colorbar.Colorbar at 0x1c30dcbfd0>"
      ]
     },
     "execution_count": 64,
     "metadata": {},
     "output_type": "execute_result"
    },
    {
     "data": {
      "image/png": "[encoded data removed]",
      "text/plain": [
       "<Figure size 720x576 with 2 Axes>"
      ]
     },
     "metadata": {
      "needs_background": "light"
     },
     "output_type": "display_data"
    }
   ],
   "source": [
    "plt.subplots(1,figsize=(10,8))\n",
    "plt.pcolor(X,Y,Z)\n",
    "plt.colorbar()"
   ]
  },
  {
   "cell_type": "code",
   "execution_count": 65,
   "metadata": {},
   "outputs": [
    {
     "data": {
      "text/plain": [
       "0.04261751188088837"
      ]
     },
     "execution_count": 65,
     "metadata": {},
     "output_type": "execute_result"
    }
   ],
   "source": [
    "np.mean(Z)"
   ]
  },
  {
   "cell_type": "code",
   "execution_count": 23,
   "metadata": {},
   "outputs": [],
   "source": [
    "# import rasterio\n",
    "# import rasterio.mask\n",
    "# from shapely.geometry import box\n",
    "# import geopandas as gpd\n",
    "# import fiona\n",
    "# from rasterio.features import shapes\n",
    "# import time\n",
    "# import numpy as np\n",
    "# import os\n",
    "# from clip_util import clip_shp\n",
    "# from grass_util import grass_overlay\n",
    "# import json\n",
    "# import osmnx as ox\n",
    "# from pathlib import Path\n",
    "# import ast\n",
    "# import sys\n",
    "# from glob import glob\n",
    "# from rasterio.merge import merge\n",
    "\n",
    "# path_out='London'\n",
    "# patch_n=12\n",
    "\n",
    "# list_of_GUF=list_of_GUF=sorted(glob('./Data/GUF/WSF2015_v1_EPSG4326/WSF2015_v1_EPSG4326/*'))\n",
    "\n",
    "# def find_overlap(path_out,patch_n,list_of_GUF):\n",
    "    \n",
    "#     with fiona.open(path_out+\"/shape_box\"+str(patch_n)+\"/shape_box\"+str(patch_n)+\".shp\", \"r\") as shapefile:\n",
    "#         features = [feature[\"geometry\"] for feature in shapefile]\n",
    "\n",
    "#     overlap_found=0\n",
    "#     for GUF_data_dir in list_of_GUF:\n",
    "\n",
    "#         try:\n",
    "#             with rasterio.open(GUF_data_dir) as src:\n",
    "#                     out_image, out_transform = rasterio.mask.mask(src, features,\n",
    "#                                                             crop=True)\n",
    "#                     out_meta = src.meta.copy()\n",
    "#             overlap_found +=1\n",
    "            \n",
    "\n",
    "#             out_meta.update({\"driver\": \"GTiff\",\n",
    "#             \"height\": out_image.shape[1],\n",
    "#             \"width\": out_image.shape[2],\n",
    "#             \"transform\": out_transform})\n",
    "            \n",
    "#             with rasterio.open(path_out+\"/masked_footprint\"+str(patch_n)+str(overlap_found)+\".tif\", \"w\", **out_meta) as dest:\n",
    "#                     dest.write(out_image)\n",
    "\n",
    "\n",
    "#         except:\n",
    "#             pass\n",
    "#     return overlap_found\n",
    "\n",
    "\n",
    "# def merger(overlap_found,path_out,patch_n):\n",
    "#     all_files=[]\n",
    "#     for i in range(1,overlap_found+1):\n",
    "#         all_files.append(path_out+\"/masked_footprint\"+str(patch_n)+str(i)+\".tif\")\n",
    "\n",
    "#     src_files_to_mosaic=[]\n",
    "#     for fp in all_files:\n",
    "#         src = rasterio.open(fp)\n",
    "#         src_files_to_mosaic.append(src)\n",
    "\n",
    "#     mosaic, out_trans = merge(src_files_to_mosaic)\n",
    "#     out_meta = src.meta.copy()\n",
    "\n",
    "#     out_meta.update({\"driver\": \"GTiff\",\n",
    "#                         \"height\": mosaic.shape[1],\n",
    "#                          \"width\": mosaic.shape[2],\n",
    "#                          \"transform\": out_trans,\n",
    "#                     }\n",
    "#                     )\n",
    "\n",
    "#     out_fp=path_out+\"/masked_footprint\"+str(patch_n)+\".tif\"\n",
    "\n",
    "#     with rasterio.open(out_fp, \"w\", **out_meta) as dest:\n",
    "#         dest.write(mosaic)\n",
    "\n",
    "# print('Clipping the GUF data . . .')\n",
    "# overlap_found=find_overlap(path_out,patch_n,list_of_GUF)\n",
    "\n",
    "# if overlap_found == 0:\n",
    "#     print('Overlap is not found . . .')\n",
    "#     sys.exit()\n",
    "# elif overlap_found == 1:\n",
    "#     print('Overlap is found. Clipping the data..')\n",
    "#     name1=path_out+\"/masked_footprint\"+str(patch_n)+str(overlap_found)+\".tif\"\n",
    "#     name2=path_out+\"/masked_footprint\"+str(patch_n)+\".tif\"\n",
    "#     os.rename(name1,name2)\n",
    "# else:\n",
    "#     print('more than one overlap is found . . .')\n",
    "#     merger(overlap_found,path_out,patch_n)"
   ]
  },
  {
   "cell_type": "code",
   "execution_count": 16,
   "metadata": {},
   "outputs": [],
   "source": [
    "\n",
    "\n"
   ]
  },
  {
   "cell_type": "code",
   "execution_count": 18,
   "metadata": {},
   "outputs": [],
   "source": []
  },
  {
   "cell_type": "code",
   "execution_count": 13,
   "metadata": {},
   "outputs": [],
   "source": []
  },
  {
   "cell_type": "code",
   "execution_count": null,
   "metadata": {},
   "outputs": [],
   "source": []
  },
  {
   "cell_type": "code",
   "execution_count": null,
   "metadata": {},
   "outputs": [],
   "source": []
  }
 ],
 "metadata": {
  "kernelspec": {
   "display_name": "Python 3",
   "language": "python",
   "name": "python3"
  },
  "language_info": {
   "codemirror_mode": {
    "name": "ipython",
    "version": 3
   },
   "file_extension": ".py",
   "mimetype": "text/x-python",
   "name": "python",
   "nbconvert_exporter": "python",
   "pygments_lexer": "ipython3",
   "version": "3.7.3"
  },
  "toc": {
   "base_numbering": 1,
   "nav_menu": {},
   "number_sections": true,
   "sideBar": true,
   "skip_h1_title": false,
   "title_cell": "Table of Contents",
   "title_sidebar": "Contents",
   "toc_cell": false,
   "toc_position": {},
   "toc_section_display": true,
   "toc_window_display": false
  }
 },
 "nbformat": 4,
 "nbformat_minor": 2
}
