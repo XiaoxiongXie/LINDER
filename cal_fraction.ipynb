{
 "cells": [
  {
   "cell_type": "code",
   "execution_count": 1,
   "metadata": {},
   "outputs": [],
   "source": [
    "import geopandas as gpd\n",
    "from shapely.geometry import Polygon\n",
    "import numpy as np\n",
    "import pandas as pd\n",
    "import os\n",
    "import sys\n",
    "import rasterio"
   ]
  },
  {
   "cell_type": "code",
   "execution_count": 116,
   "metadata": {},
   "outputs": [],
   "source": [
    "\n",
    "# gisdb = os.path.join(os.path.expanduser(\"~\"), \"Documents\")\n",
    "# location = \"nc_spm_08\"\n",
    "# mapset = \"PERMANENT\"\n",
    "# gisbase='/Applications/GRASS-7.6.app/Contents/Resources'\n",
    "# os.environ['GISBASE'] = gisbase\n",
    "# grass_pydir = os.path.join(gisbase, \"etc\", \"python\")\n",
    "# sys.path.append(grass_pydir)\n",
    "# os.environ['LD_LIBRARY_PATH']=\"/Applications/GRASS-7.6.app/Contents/Resources/lib\"\n",
    "# import grass.script as gscript\n",
    "# import grass.script.setup as gsetup\n",
    "\n",
    "\n",
    "# def grass_union(v1_dir,v2_dir,out_dir,patch_n,path_out):\n",
    "#     gsetup.init(gisbase, gisdb, location, mapset)\n",
    "\n",
    "#     gscript.run_command(\"g.proj\",flags=\"c\" ,proj4=\"+proj=longlat +datum=WGS84 +no_defs\")\n",
    "\n",
    "#     gscript.run_command(\"v.in.ogr\", \n",
    "#     min_area=0.0001 ,\n",
    "#     snap=-1.0, \n",
    "#     input=v1_dir, \n",
    "#     output=\"vector3\", \n",
    "#     overwrite=True, \n",
    "#     flags=\"o\")\n",
    "\n",
    "#     gscript.run_command(\"v.in.ogr\", \n",
    "#     min_area=0.0001 ,\n",
    "#     snap=-1.0, \n",
    "#     input=v2_dir, \n",
    "#     output=\"vector4\", \n",
    "#     overwrite=True, \n",
    "#     flags=\"o\")\n",
    "\n",
    "#     raster=rasterio.open(path_out+'/predicted_tiff/patch'+str(patch_n)+'/merged_prediction.tiff')\n",
    "#     df=raster.bounds\n",
    "\n",
    "#     gscript.run_command(\"g.region\",\n",
    "#     n=df.top,\n",
    "#     s=df.bottom,\n",
    "#     e=df.right,\n",
    "#     w=df.left)\n",
    "\n",
    "#     gscript.run_command(\"v.overlay\", \n",
    "#     overwrite=True,\n",
    "#     ainput=\"vector3\",\n",
    "#     atype=\"area\", \n",
    "#     binput=\"vector4\", \n",
    "#     btype=\"area\", \n",
    "#     operator='or', \n",
    "#     snap=0, \n",
    "#     output=\"output_b\")\n",
    "\n",
    "#     out_file='converted_temp.geojson'\n",
    "#     gscript.run_command(\"v.out.ogr\",\n",
    "#     type=\"auto\",\n",
    "#     input=\"output_b\",\n",
    "#     output=out_file,\n",
    "#     format=\"GeoJSON\",\n",
    "#     overwrite=True)\n",
    "\n",
    "\n",
    "#     temp=gpd.read_file(out_file)\n",
    "#     os.remove(out_file)\n",
    "#     temp.crs={'init' :'epsg:4326'}\n",
    "#     temp.to_file(out_dir)\n",
    "    \n",
    "    \n",
    "# def grass_intersect(v1_dir,v2_dir,out_dir,patch_n,path_out):\n",
    "#     gsetup.init(gisbase, gisdb, location, mapset)\n",
    "\n",
    "#     gscript.run_command(\"g.proj\",flags=\"c\" ,proj4=\"+proj=longlat +datum=WGS84 +no_defs\")\n",
    "\n",
    "#     gscript.run_command(\"v.in.ogr\", \n",
    "#     min_area=0.0001 ,\n",
    "#     snap=-1.0, \n",
    "#     input=v1_dir, \n",
    "#     output=\"vector3\", \n",
    "#     overwrite=True, \n",
    "#     flags=\"o\")\n",
    "\n",
    "#     gscript.run_command(\"v.in.ogr\", \n",
    "#     min_area=0.0001 ,\n",
    "#     snap=-1.0, \n",
    "#     input=v2_dir, \n",
    "#     output=\"vector4\", \n",
    "#     overwrite=True, \n",
    "#     flags=\"o\")\n",
    "\n",
    "#     raster=rasterio.open(path_out+'/predicted_tiff/patch'+str(patch_n)+'/merged_prediction.tiff')\n",
    "#     df=raster.bounds\n",
    "\n",
    "#     gscript.run_command(\"g.region\",\n",
    "#     n=df.top,\n",
    "#     s=df.bottom,\n",
    "#     e=df.right,\n",
    "#     w=df.left)\n",
    "\n",
    "#     gscript.run_command(\"v.overlay\", \n",
    "#     overwrite=True,\n",
    "#     ainput=\"vector3\",\n",
    "#     atype=\"area\", \n",
    "#     binput=\"vector4\", \n",
    "#     btype=\"area\", \n",
    "#     operator='and', \n",
    "#     snap=0, \n",
    "#     output=\"output_b\")\n",
    "\n",
    "#     out_file='converted_temp.geojson'\n",
    "#     gscript.run_command(\"v.out.ogr\",\n",
    "#     type=\"auto\",\n",
    "#     input=\"output_b\",\n",
    "#     output=out_file,\n",
    "#     format=\"GeoJSON\",\n",
    "#     overwrite=True)\n",
    "\n",
    "\n",
    "#     temp=gpd.read_file(out_file)\n",
    "#     os.remove(out_file)\n",
    "#     temp.crs={'init' :'epsg:4326'}\n",
    "#     temp.to_file(out_dir)"
   ]
  },
  {
   "cell_type": "code",
   "execution_count": 117,
   "metadata": {},
   "outputs": [],
   "source": [
    "# box=gpd.read_file('London/shape_box0/shape_box0.shp')"
   ]
  },
  {
   "cell_type": "code",
   "execution_count": 118,
   "metadata": {},
   "outputs": [],
   "source": [
    "# xmin,ymin,xmax,ymax = box.total_bounds"
   ]
  },
  {
   "cell_type": "code",
   "execution_count": 119,
   "metadata": {},
   "outputs": [],
   "source": [
    "# xn = 30\n",
    "# yn = 20\n",
    "\n",
    "# cols = list(np.linspace(xmin, xmax, xn, endpoint=True))\n",
    "# rows = list(np.linspace(ymin, ymax, yn, endpoint=True))\n",
    "# rows.reverse()\n",
    "\n",
    "# polygons = []\n",
    "# X,Y=np.meshgrid(cols,rows)\n",
    "# for x in range(xn-1):\n",
    "#     for y in range(yn-1):\n",
    "#         polygons.append(\n",
    "#             Polygon([(X[y,x], Y[y,x]), (X[y+1,x], Y[y+1,x]), (X[y+1,x+1],Y[y+1,x+1]), (X[y,x+1],Y[y,x+1])]))\n",
    "\n",
    "# grid = gpd.GeoDataFrame({'geometry': polygons})\n",
    "# grid.crs = box.crs\n",
    "# grid['grid_num']=grid.index\n",
    "# grid['grid_area']=grid.area\n"
   ]
  },
  {
   "cell_type": "code",
   "execution_count": 385,
   "metadata": {},
   "outputs": [],
   "source": [
    "# path_out='London'\n",
    "# patch_n=0\n",
    "# grid.to_file(path_out+'/grid'+str(patch_n))"
   ]
  },
  {
   "cell_type": "code",
   "execution_count": 386,
   "metadata": {},
   "outputs": [],
   "source": [
    "# v1_dir=path_out+'/predict_GUF_roads_mod'+str(patch_n)+'/predict_GUF_roads_mod'+str(patch_n)+'.shp'\n",
    "# v2_dir=path_out+'/grid'+str(patch_n)+'/grid'+str(patch_n)+'.shp'\n",
    "# out_dir=path_out+'/grid_intersect'+str(patch_n)\n",
    "# grass_intersect(v1_dir,v2_dir,out_dir,patch_n,path_out)"
   ]
  },
  {
   "cell_type": "code",
   "execution_count": 387,
   "metadata": {},
   "outputs": [],
   "source": [
    "# grid_intersect=gpd.read_file(out_dir)\n",
    "# grid_intersect=grid_intersect.drop(['cat','a_cat','b_cat'],axis=1)"
   ]
  },
  {
   "cell_type": "code",
   "execution_count": 388,
   "metadata": {},
   "outputs": [],
   "source": [
    "# grid_intersect['area']=grid_intersect.area"
   ]
  },
  {
   "cell_type": "code",
   "execution_count": 389,
   "metadata": {},
   "outputs": [],
   "source": [
    "# temp=grid_intersect.groupby(['b_grid_num','a_LC']).sum()\n",
    "# temp.b_grid_are=grid_intersect.b_grid_are.iloc[0]"
   ]
  },
  {
   "cell_type": "code",
   "execution_count": 390,
   "metadata": {},
   "outputs": [],
   "source": [
    "# temp['percentage']=temp.area/temp.b_grid_are\n",
    "# temp=temp.reset_index()"
   ]
  },
  {
   "cell_type": "code",
   "execution_count": 391,
   "metadata": {},
   "outputs": [],
   "source": [
    "# list_LC=gpd.read_file(v1_dir).LC.unique()"
   ]
  },
  {
   "cell_type": "code",
   "execution_count": 392,
   "metadata": {},
   "outputs": [],
   "source": [
    "# centroids=grid.centroid"
   ]
  },
  {
   "cell_type": "code",
   "execution_count": 481,
   "metadata": {},
   "outputs": [],
   "source": [
    "# fraction=pd.DataFrame(columns=np.concatenate((['lat','lon'],list_LC)),index=centroids.index)\n",
    "# for i in temp.b_grid_num.unique():\n",
    "     \n",
    "#     a_list=[]\n",
    "#     for x in list_LC:\n",
    "#         try:\n",
    "#             a=temp[(temp.b_grid_num==i)&(temp.a_LC==x)].percentage.values[0]\n",
    "#         except:\n",
    "#             a=0\n",
    "#         a_list.append(a)\n",
    "        \n",
    "#     aa=np.array(a_list)\n",
    "#     for j in aa:\n",
    "#         dy=(1-np.sum(a_list))/len(aa[aa!=0])\n",
    "#         if j!=0:\n",
    "#             aa[aa==j]=j+dy\n",
    "#     a_list=aa.T.tolist()\n",
    "    \n",
    "#     fraction.loc[i]=[centroids.loc[i].y,centroids.loc[i].x]+a_list\n",
    "\n",
    "# fraction.to_csv(path_out+'/fraction'+str(patch_n)+'.csv')       "
   ]
  },
  {
   "cell_type": "markdown",
   "metadata": {},
   "source": [
    "# Calculating Fraction"
   ]
  },
  {
   "cell_type": "code",
   "execution_count": 50,
   "metadata": {},
   "outputs": [],
   "source": [
    "# from fraction_util import calculate_fraction\n",
    "# path_out='London'\n",
    "# xn=20\n",
    "# yn=20\n",
    "# for patch_n in range(0,16):\n",
    "#         calculate_fraction(path_out,patch_n,xn,yn)"
   ]
  },
  {
   "cell_type": "markdown",
   "metadata": {},
   "source": [
    "# Reading and Plotting "
   ]
  },
  {
   "cell_type": "code",
   "execution_count": 51,
   "metadata": {},
   "outputs": [],
   "source": [
    "# import geopandas as gpd\n",
    "# from pyproj import Proj, transform\n",
    "# import numpy as np\n",
    "# import matplotlib.pyplot as plt\n",
    "# import seaborn as sns\n",
    "# import pandas as pd\n",
    "# import xarray as xr\n",
    "# from scipy.interpolate import griddata\n",
    "# from mpl_toolkits.axes_grid1 import make_axes_locatable\n",
    "# import matplotlib.colors as colors"
   ]
  },
  {
   "cell_type": "code",
   "execution_count": 52,
   "metadata": {},
   "outputs": [],
   "source": [
    "# counter=0\n",
    "# path_out='London'\n",
    "# for i in range(0,16):\n",
    "#     counter+=1\n",
    "#     if counter==1:\n",
    "#         df=pd.read_csv(path_out+'/fraction'+str(i)+'.csv',index_col=0)\n",
    "#     else:\n",
    "#         df1=pd.read_csv(path_out+'/fraction'+str(i)+'.csv',index_col=0)\n",
    "#         df=pd.concat([df,df1])\n",
    "# df.lon=df.lon.round(5)\n",
    "# df.lat=df.lat.round(5)\n",
    "# X,Y=np.meshgrid(np.sort(df.lon.unique()),np.sort(df.lat.unique()))\n",
    "# Z=X*0"
   ]
  },
  {
   "cell_type": "code",
   "execution_count": 53,
   "metadata": {},
   "outputs": [],
   "source": [
    "# for i in range(X.shape[0]):\n",
    "#     for j in range(X.shape[1]):\n",
    "#         Z[i,j]=df[(df.lat==Y[i,j])&(df.lon==X[i,j])]['2.0']"
   ]
  },
  {
   "cell_type": "code",
   "execution_count": 54,
   "metadata": {},
   "outputs": [],
   "source": [
    "# plt.subplots(1,figsize=(10,8))\n",
    "# plt.pcolor(X,Y,Z)\n",
    "# plt.colorbar()"
   ]
  },
  {
   "cell_type": "code",
   "execution_count": 55,
   "metadata": {},
   "outputs": [],
   "source": [
    "# np.mean(Z)"
   ]
  },
  {
   "cell_type": "code",
   "execution_count": 2,
   "metadata": {},
   "outputs": [],
   "source": [
    "import geopandas as gpd\n",
    "from pyproj import Proj, transform\n",
    "import numpy as np\n",
    "import matplotlib.pyplot as plt\n",
    "import seaborn as sns\n",
    "import pandas as pd\n",
    "import xarray as xr\n",
    "from scipy.interpolate import griddata\n",
    "from mpl_toolkits.axes_grid1 import make_axes_locatable\n",
    "import matplotlib.colors as colors\n"
   ]
  },
  {
   "cell_type": "code",
   "execution_count": 82,
   "metadata": {},
   "outputs": [],
   "source": [
    "counter=0\n",
    "path_out='Colombo'\n",
    "file_numbers=[24,24,7,14]\n",
    "for i,j in zip(range(0,4),file_numbers):\n",
    "    counter+=1\n",
    "    if counter==1:\n",
    "        df=pd.read_csv(path_out+'/fraction_'+str(i)+'-'+str(j)+'.csv',index_col=0)\n",
    "    else:\n",
    "        df1=pd.read_csv(path_out+'/fraction_'+str(i)+'-'+str(j)+'.csv',index_col=0)\n",
    "        df=pd.concat([df,df1])\n",
    "X,Y=np.meshgrid(np.sort(df.lon.unique()),np.sort(df.lat.unique()))\n",
    "Z=X*0"
   ]
  },
  {
   "cell_type": "code",
   "execution_count": 83,
   "metadata": {},
   "outputs": [
    {
     "data": {
      "text/html": [
       "<div>\n",
       "<style scoped>\n",
       "    .dataframe tbody tr th:only-of-type {\n",
       "        vertical-align: middle;\n",
       "    }\n",
       "\n",
       "    .dataframe tbody tr th {\n",
       "        vertical-align: top;\n",
       "    }\n",
       "\n",
       "    .dataframe thead th {\n",
       "        text-align: right;\n",
       "    }\n",
       "</style>\n",
       "<table border=\"1\" class=\"dataframe\">\n",
       "  <thead>\n",
       "    <tr style=\"text-align: right;\">\n",
       "      <th></th>\n",
       "      <th>lat</th>\n",
       "      <th>lon</th>\n",
       "      <th>road</th>\n",
       "      <th>green</th>\n",
       "      <th>water</th>\n",
       "      <th>other</th>\n",
       "      <th>building</th>\n",
       "    </tr>\n",
       "  </thead>\n",
       "  <tbody>\n",
       "    <tr>\n",
       "      <th>0</th>\n",
       "      <td>6.935732</td>\n",
       "      <td>79.8366</td>\n",
       "      <td>0.0</td>\n",
       "      <td>0.0</td>\n",
       "      <td>0.000000</td>\n",
       "      <td>1.000000</td>\n",
       "      <td>0.0</td>\n",
       "    </tr>\n",
       "    <tr>\n",
       "      <th>1</th>\n",
       "      <td>6.934362</td>\n",
       "      <td>79.8366</td>\n",
       "      <td>0.0</td>\n",
       "      <td>0.0</td>\n",
       "      <td>0.000000</td>\n",
       "      <td>1.000000</td>\n",
       "      <td>0.0</td>\n",
       "    </tr>\n",
       "    <tr>\n",
       "      <th>2</th>\n",
       "      <td>6.932992</td>\n",
       "      <td>79.8366</td>\n",
       "      <td>0.0</td>\n",
       "      <td>0.0</td>\n",
       "      <td>0.011989</td>\n",
       "      <td>0.988011</td>\n",
       "      <td>0.0</td>\n",
       "    </tr>\n",
       "    <tr>\n",
       "      <th>3</th>\n",
       "      <td>6.931622</td>\n",
       "      <td>79.8366</td>\n",
       "      <td>0.0</td>\n",
       "      <td>0.0</td>\n",
       "      <td>0.003996</td>\n",
       "      <td>0.996004</td>\n",
       "      <td>0.0</td>\n",
       "    </tr>\n",
       "    <tr>\n",
       "      <th>4</th>\n",
       "      <td>6.930252</td>\n",
       "      <td>79.8366</td>\n",
       "      <td>0.0</td>\n",
       "      <td>0.0</td>\n",
       "      <td>0.023977</td>\n",
       "      <td>0.976023</td>\n",
       "      <td>0.0</td>\n",
       "    </tr>\n",
       "  </tbody>\n",
       "</table>\n",
       "</div>"
      ],
      "text/plain": [
       "        lat      lon  road  green     water     other  building\n",
       "0  6.935732  79.8366   0.0    0.0  0.000000  1.000000       0.0\n",
       "1  6.934362  79.8366   0.0    0.0  0.000000  1.000000       0.0\n",
       "2  6.932992  79.8366   0.0    0.0  0.011989  0.988011       0.0\n",
       "3  6.931622  79.8366   0.0    0.0  0.003996  0.996004       0.0\n",
       "4  6.930252  79.8366   0.0    0.0  0.023977  0.976023       0.0"
      ]
     },
     "execution_count": 83,
     "metadata": {},
     "output_type": "execute_result"
    }
   ],
   "source": [
    "df.head()"
   ]
  },
  {
   "cell_type": "code",
   "execution_count": 84,
   "metadata": {},
   "outputs": [],
   "source": [
    "def toapp(row,to_inspect):\n",
    "    ct=0\n",
    "    if row[to_inspect]<0:\n",
    "        all_cat=['road','green','water','other','building']\n",
    "        for i in [x for x in all_cat if x!=to_inspect]:\n",
    "            if row[i]!=0:\n",
    "                ct+=1\n",
    "        for i in [x for x in all_cat if x!=to_inspect]:\n",
    "            if row[i]!=0:\n",
    "                row[i]=row[i]-row[to_inspect]/ct\n",
    "        row[to_inspect]=0\n",
    "    \n",
    "    return row\n",
    "for i in ['road','green','water','other','building']:\n",
    "    df=df.apply(lambda x:toapp(x,i),axis=1)\n",
    "    "
   ]
  },
  {
   "cell_type": "code",
   "execution_count": 85,
   "metadata": {},
   "outputs": [
    {
     "data": {
      "text/plain": [
       "<matplotlib.collections.PolyCollection at 0x1c31a38fd0>"
      ]
     },
     "execution_count": 85,
     "metadata": {},
     "output_type": "execute_result"
    },
    {
     "data": {
      "image/png": "[encoded data removed]",
      "text/plain": [
       "<Figure size 720x576 with 1 Axes>"
      ]
     },
     "metadata": {
      "needs_background": "light"
     },
     "output_type": "display_data"
    }
   ],
   "source": [
    "plt.subplots(1,figsize=(10,8))\n",
    "plt.tripcolor(df.lon,df.lat,df.water)"
   ]
  },
  {
   "cell_type": "code",
   "execution_count": 86,
   "metadata": {},
   "outputs": [
    {
     "name": "stderr",
     "output_type": "stream",
     "text": [
      "/Users/hamidrezaomidvar/anaconda3/envs/hamid_1/lib/python3.7/site-packages/ipykernel_launcher.py:4: SettingWithCopyWarning: \n",
      "A value is trying to be set on a copy of a slice from a DataFrame\n",
      "\n",
      "See the caveats in the documentation: http://pandas.pydata.org/pandas-docs/stable/user_guide/indexing.html#returning-a-view-versus-a-copy\n",
      "  after removing the cwd from sys.path.\n",
      "/Users/hamidrezaomidvar/anaconda3/envs/hamid_1/lib/python3.7/site-packages/ipykernel_launcher.py:5: SettingWithCopyWarning: \n",
      "A value is trying to be set on a copy of a slice from a DataFrame\n",
      "\n",
      "See the caveats in the documentation: http://pandas.pydata.org/pandas-docs/stable/user_guide/indexing.html#returning-a-view-versus-a-copy\n",
      "  \"\"\"\n",
      "/Users/hamidrezaomidvar/anaconda3/envs/hamid_1/lib/python3.7/site-packages/ipykernel_launcher.py:6: SettingWithCopyWarning: \n",
      "A value is trying to be set on a copy of a slice from a DataFrame\n",
      "\n",
      "See the caveats in the documentation: http://pandas.pydata.org/pandas-docs/stable/user_guide/indexing.html#returning-a-view-versus-a-copy\n",
      "  \n",
      "/Users/hamidrezaomidvar/anaconda3/envs/hamid_1/lib/python3.7/site-packages/ipykernel_launcher.py:7: SettingWithCopyWarning: \n",
      "A value is trying to be set on a copy of a slice from a DataFrame\n",
      "\n",
      "See the caveats in the documentation: http://pandas.pydata.org/pandas-docs/stable/user_guide/indexing.html#returning-a-view-versus-a-copy\n",
      "  import sys\n",
      "/Users/hamidrezaomidvar/anaconda3/envs/hamid_1/lib/python3.7/site-packages/ipykernel_launcher.py:8: SettingWithCopyWarning: \n",
      "A value is trying to be set on a copy of a slice from a DataFrame\n",
      "\n",
      "See the caveats in the documentation: http://pandas.pydata.org/pandas-docs/stable/user_guide/indexing.html#returning-a-view-versus-a-copy\n",
      "  \n",
      "/Users/hamidrezaomidvar/anaconda3/envs/hamid_1/lib/python3.7/site-packages/ipykernel_launcher.py:9: SettingWithCopyWarning: \n",
      "A value is trying to be set on a copy of a slice from a DataFrame\n",
      "\n",
      "See the caveats in the documentation: http://pandas.pydata.org/pandas-docs/stable/user_guide/indexing.html#returning-a-view-versus-a-copy\n",
      "  if __name__ == '__main__':\n",
      "/Users/hamidrezaomidvar/anaconda3/envs/hamid_1/lib/python3.7/site-packages/ipykernel_launcher.py:10: SettingWithCopyWarning: \n",
      "A value is trying to be set on a copy of a slice from a DataFrame\n",
      "\n",
      "See the caveats in the documentation: http://pandas.pydata.org/pandas-docs/stable/user_guide/indexing.html#returning-a-view-versus-a-copy\n",
      "  # Remove the CWD from sys.path while we load stuff.\n",
      "/Users/hamidrezaomidvar/anaconda3/envs/hamid_1/lib/python3.7/site-packages/ipykernel_launcher.py:11: SettingWithCopyWarning: \n",
      "A value is trying to be set on a copy of a slice from a DataFrame\n",
      "\n",
      "See the caveats in the documentation: http://pandas.pydata.org/pandas-docs/stable/user_guide/indexing.html#returning-a-view-versus-a-copy\n",
      "  # This is added back by InteractiveShellApp.init_path()\n",
      "/Users/hamidrezaomidvar/anaconda3/envs/hamid_1/lib/python3.7/site-packages/ipykernel_launcher.py:12: SettingWithCopyWarning: \n",
      "A value is trying to be set on a copy of a slice from a DataFrame\n",
      "\n",
      "See the caveats in the documentation: http://pandas.pydata.org/pandas-docs/stable/user_guide/indexing.html#returning-a-view-versus-a-copy\n",
      "  if sys.path[0] == '':\n",
      "/Users/hamidrezaomidvar/anaconda3/envs/hamid_1/lib/python3.7/site-packages/ipykernel_launcher.py:13: SettingWithCopyWarning: \n",
      "A value is trying to be set on a copy of a slice from a DataFrame\n",
      "\n",
      "See the caveats in the documentation: http://pandas.pydata.org/pandas-docs/stable/user_guide/indexing.html#returning-a-view-versus-a-copy\n",
      "  del sys.path[0]\n"
     ]
    }
   ],
   "source": [
    "df_SUEWS=pd.read_csv('Data/SUEWS_SiteSelect.txt',delimiter=r\"\\s+\",header=1)\n",
    "for i in range(len(df)):\n",
    "    df_SUEWS=df_SUEWS.append(df_SUEWS.iloc[0])\n",
    "    df_SUEWS.iloc[-1]['Grid']=i\n",
    "    df_SUEWS.iloc[-1]['lat']=df.iloc[i].lat\n",
    "    df_SUEWS.iloc[-1]['lng']=df.iloc[i].lon\n",
    "    df_SUEWS.iloc[-1]['Fr_Bldgs']=df.iloc[i].building\n",
    "    df_SUEWS.iloc[-1]['Fr_Paved']=df.iloc[i].road\n",
    "    df_SUEWS.iloc[-1]['Fr_EveTr']=df.iloc[i].green\n",
    "    df_SUEWS.iloc[-1]['Fr_DecTr']=0\n",
    "    df_SUEWS.iloc[-1]['Fr_Grass']=0\n",
    "    df_SUEWS.iloc[-1]['Fr_Bsoil']=df.iloc[i].other\n",
    "    df_SUEWS.iloc[-1]['Fr_Water']=df.iloc[i].water\n",
    "    \n",
    "df_SUEWS.iloc[1]['Grid']=0\n",
    "df_SUEWS.iloc[1]['lat']=df.iloc[0].lat\n",
    "df_SUEWS.iloc[1]['lng']=df.iloc[0].lon\n",
    "df_SUEWS.iloc[1]['Fr_Bldgs']=df.iloc[0].building\n",
    "df_SUEWS.iloc[1]['Fr_Paved']=df.iloc[0].road\n",
    "df_SUEWS.iloc[1]['Fr_EveTr']=df.iloc[0].green\n",
    "df_SUEWS.iloc[1]['Fr_DecTr']=0\n",
    "df_SUEWS.iloc[1]['Fr_Grass']=0\n",
    "df_SUEWS.iloc[1]['Fr_Bsoil']=df.iloc[0].other\n",
    "df_SUEWS.iloc[1]['Fr_Water']=df.iloc[0].water\n",
    "\n",
    "df_SUEWS=df_SUEWS.reset_index().drop('index',axis=1)\n",
    "df_SUEWS=df_SUEWS.drop(0)"
   ]
  },
  {
   "cell_type": "code",
   "execution_count": 87,
   "metadata": {},
   "outputs": [],
   "source": [
    "df_SUEWS.to_csv(path_out+'/SUEWS_SiteSelect_'+path_out+'.txt',sep=' ',index=False)"
   ]
  },
  {
   "cell_type": "code",
   "execution_count": null,
   "metadata": {},
   "outputs": [],
   "source": []
  },
  {
   "cell_type": "code",
   "execution_count": null,
   "metadata": {},
   "outputs": [],
   "source": []
  }
 ],
 "metadata": {
  "kernelspec": {
   "display_name": "Python 3",
   "language": "python",
   "name": "python3"
  },
  "language_info": {
   "codemirror_mode": {
    "name": "ipython",
    "version": 3
   },
   "file_extension": ".py",
   "mimetype": "text/x-python",
   "name": "python",
   "nbconvert_exporter": "python",
   "pygments_lexer": "ipython3",
   "version": "3.7.3"
  },
  "toc": {
   "base_numbering": 1,
   "nav_menu": {},
   "number_sections": true,
   "sideBar": true,
   "skip_h1_title": false,
   "title_cell": "Table of Contents",
   "title_sidebar": "Contents",
   "toc_cell": false,
   "toc_position": {},
   "toc_section_display": true,
   "toc_window_display": false
  }
 },
 "nbformat": 4,
 "nbformat_minor": 2
}
